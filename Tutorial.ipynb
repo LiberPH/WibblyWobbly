{
 "cells": [
  {
   "cell_type": "code",
   "execution_count": 1,
   "metadata": {},
   "outputs": [],
   "source": [
    "import wibblywobbly as ww\n",
    "\n",
    "catalog = [\"Mouse\", \"Cat\", \"Dog\", \"Human\"]\n",
    "data = [\"mice\",  \"CAT \", \"doggo\", \"PERSON\", 999]"
   ]
  },
  {
   "cell_type": "code",
   "execution_count": 2,
   "metadata": {},
   "outputs": [
    {
     "data": {
      "text/html": [
       "<div>\n",
       "<style scoped>\n",
       "    .dataframe tbody tr th:only-of-type {\n",
       "        vertical-align: middle;\n",
       "    }\n",
       "\n",
       "    .dataframe tbody tr th {\n",
       "        vertical-align: top;\n",
       "    }\n",
       "\n",
       "    .dataframe thead th {\n",
       "        text-align: right;\n",
       "    }\n",
       "</style>\n",
       "<table border=\"1\" class=\"dataframe\">\n",
       "  <thead>\n",
       "    <tr style=\"text-align: right;\">\n",
       "      <th></th>\n",
       "      <th>Data</th>\n",
       "      <th>Option1</th>\n",
       "      <th>Score1</th>\n",
       "    </tr>\n",
       "  </thead>\n",
       "  <tbody>\n",
       "    <tr>\n",
       "      <td>0</td>\n",
       "      <td>CAT</td>\n",
       "      <td>Cat</td>\n",
       "      <td>100</td>\n",
       "    </tr>\n",
       "    <tr>\n",
       "      <td>1</td>\n",
       "      <td>doggo</td>\n",
       "      <td>Dog</td>\n",
       "      <td>90</td>\n",
       "    </tr>\n",
       "    <tr>\n",
       "      <td>2</td>\n",
       "      <td>mice</td>\n",
       "      <td>mice</td>\n",
       "      <td>0</td>\n",
       "    </tr>\n",
       "    <tr>\n",
       "      <td>3</td>\n",
       "      <td>PERSON</td>\n",
       "      <td>PERSON</td>\n",
       "      <td>0</td>\n",
       "    </tr>\n",
       "    <tr>\n",
       "      <td>4</td>\n",
       "      <td>999</td>\n",
       "      <td>999</td>\n",
       "      <td>0</td>\n",
       "    </tr>\n",
       "  </tbody>\n",
       "</table>\n",
       "</div>"
      ],
      "text/plain": [
       "     Data Option1  Score1\n",
       "0    CAT      Cat     100\n",
       "1   doggo     Dog      90\n",
       "2    mice    mice       0\n",
       "3  PERSON  PERSON       0\n",
       "4     999     999       0"
      ]
     },
     "execution_count": 2,
     "metadata": {},
     "output_type": "execute_result"
    }
   ],
   "source": [
    "ww.map_list_to_catalog(data, catalog)"
   ]
  },
  {
   "cell_type": "code",
   "execution_count": 17,
   "metadata": {},
   "outputs": [
    {
     "data": {
      "text/html": [
       "<div>\n",
       "<style scoped>\n",
       "    .dataframe tbody tr th:only-of-type {\n",
       "        vertical-align: middle;\n",
       "    }\n",
       "\n",
       "    .dataframe tbody tr th {\n",
       "        vertical-align: top;\n",
       "    }\n",
       "\n",
       "    .dataframe thead th {\n",
       "        text-align: right;\n",
       "    }\n",
       "</style>\n",
       "<table border=\"1\" class=\"dataframe\">\n",
       "  <thead>\n",
       "    <tr style=\"text-align: right;\">\n",
       "      <th></th>\n",
       "      <th>Data</th>\n",
       "      <th>Option1</th>\n",
       "      <th>Score1</th>\n",
       "      <th>Option2</th>\n",
       "      <th>Score2</th>\n",
       "      <th>Option3</th>\n",
       "      <th>Score3</th>\n",
       "    </tr>\n",
       "  </thead>\n",
       "  <tbody>\n",
       "    <tr>\n",
       "      <td>0</td>\n",
       "      <td>CAT</td>\n",
       "      <td>Cat</td>\n",
       "      <td>100</td>\n",
       "      <td>None</td>\n",
       "      <td>NaN</td>\n",
       "      <td>None</td>\n",
       "      <td>NaN</td>\n",
       "    </tr>\n",
       "    <tr>\n",
       "      <td>1</td>\n",
       "      <td>doggo</td>\n",
       "      <td>Dog</td>\n",
       "      <td>90</td>\n",
       "      <td>Mouse</td>\n",
       "      <td>20.0</td>\n",
       "      <td>Cat</td>\n",
       "      <td>0.0</td>\n",
       "    </tr>\n",
       "    <tr>\n",
       "      <td>2</td>\n",
       "      <td>mice</td>\n",
       "      <td>Mouse</td>\n",
       "      <td>44</td>\n",
       "      <td>Cat</td>\n",
       "      <td>29.0</td>\n",
       "      <td>Human</td>\n",
       "      <td>22.0</td>\n",
       "    </tr>\n",
       "    <tr>\n",
       "      <td>3</td>\n",
       "      <td>PERSON</td>\n",
       "      <td>Other</td>\n",
       "      <td>0</td>\n",
       "      <td>None</td>\n",
       "      <td>NaN</td>\n",
       "      <td>None</td>\n",
       "      <td>NaN</td>\n",
       "    </tr>\n",
       "    <tr>\n",
       "      <td>4</td>\n",
       "      <td>999</td>\n",
       "      <td>999</td>\n",
       "      <td>0</td>\n",
       "      <td>None</td>\n",
       "      <td>NaN</td>\n",
       "      <td>None</td>\n",
       "      <td>NaN</td>\n",
       "    </tr>\n",
       "  </tbody>\n",
       "</table>\n",
       "</div>"
      ],
      "text/plain": [
       "     Data Option1  Score1 Option2  Score2 Option3  Score3\n",
       "0    CAT      Cat     100    None     NaN    None     NaN\n",
       "1   doggo     Dog      90   Mouse    20.0     Cat     0.0\n",
       "2    mice   Mouse      44     Cat    29.0   Human    22.0\n",
       "3  PERSON   Other       0    None     NaN    None     NaN\n",
       "4     999     999       0    None     NaN    None     NaN"
      ]
     },
     "execution_count": 17,
     "metadata": {},
     "output_type": "execute_result"
    }
   ],
   "source": [
    "ww.map_list_to_catalog(data, catalog, thr_accept=95,\n",
    "                       thr_reject=40, reject_value='Other')"
   ]
  },
  {
   "cell_type": "code",
   "execution_count": 13,
   "metadata": {},
   "outputs": [
    {
     "data": {
      "text/plain": [
       "{'PERSON': 'PERSON', 999: 999, 'mice': 'mice', 'doggo': 'Dog', 'CAT ': 'Cat'}"
      ]
     },
     "execution_count": 13,
     "metadata": {},
     "output_type": "execute_result"
    }
   ],
   "source": [
    "ww.map_list_to_catalog(data, catalog, output_format=\"dictionary\")"
   ]
  },
  {
   "cell_type": "code",
   "execution_count": 11,
   "metadata": {},
   "outputs": [
    {
     "name": "stderr",
     "output_type": "stream",
     "text": [
      "WOBBLY: mice\n",
      "\tOptions: Mouse (44), Cat (29), Human (22)\n",
      "WOBBLY: doggo\n",
      "\tOptions: Dog (90), Mouse (20), Cat (0)\n"
     ]
    },
    {
     "data": {
      "text/plain": [
       "{'PERSON': 'Other', 999: 999, 'mice': 'Mouse', 'doggo': 'Dog', 'CAT ': 'Cat'}"
      ]
     },
     "execution_count": 11,
     "metadata": {},
     "output_type": "execute_result"
    }
   ],
   "source": [
    "ww.map_list_to_catalog(data, catalog, output_format=\"dictionary\", \n",
    "                       thr_accept=95, thr_reject=40, reject_value='Other',\n",
    "                       warnings=True)"
   ]
  }
 ],
 "metadata": {
  "kernelspec": {
   "display_name": "Python 3",
   "language": "python",
   "name": "python3"
  },
  "language_info": {
   "codemirror_mode": {
    "name": "ipython",
    "version": 3
   },
   "file_extension": ".py",
   "mimetype": "text/x-python",
   "name": "python",
   "nbconvert_exporter": "python",
   "pygments_lexer": "ipython3",
   "version": "3.7.4"
  }
 },
 "nbformat": 4,
 "nbformat_minor": 4
}
