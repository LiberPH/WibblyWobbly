{
 "cells": [
  {
   "cell_type": "markdown",
   "metadata": {},
   "source": [
    "# WibblyWobbly\n",
    "\n",
    "### Match data to a catalog\n",
    "\n",
    "Import wibblywobbly and load your data and catalog as list."
   ]
  },
  {
   "cell_type": "code",
   "execution_count": 1,
   "metadata": {},
   "outputs": [],
   "source": [
    "import wibblywobbly as ww\n",
    "\n",
    "catalog = [\"Mouse\", \"Cat\", \"Dog\", \"Human\"]\n",
    "data = [\"mice\",  \"CAT \", \"doggo\", \"PERSON\", 999]"
   ]
  },
  {
   "cell_type": "markdown",
   "metadata": {},
   "source": [
    "WibblyWobbly compares the data to the catalog and returns the most likely options and a similarity score. \n",
    "If it cannot find a good match it will return the original data. By default it returns a pandas dataframe.\n",
    "\n",
    "WibblyWobbly automaticaly accepts the catalog options that have a higher similarity score than `thr_accept` and rejects those that have a lower score than `thr_reject`. This treshold values can be adjusted depending in the data quality. It ignores non-string values."
   ]
  },
  {
   "cell_type": "code",
   "execution_count": 2,
   "metadata": {},
   "outputs": [
    {
     "data": {
      "text/html": [
       "<div>\n",
       "<style scoped>\n",
       "    .dataframe tbody tr th:only-of-type {\n",
       "        vertical-align: middle;\n",
       "    }\n",
       "\n",
       "    .dataframe tbody tr th {\n",
       "        vertical-align: top;\n",
       "    }\n",
       "\n",
       "    .dataframe thead th {\n",
       "        text-align: right;\n",
       "    }\n",
       "</style>\n",
       "<table border=\"1\" class=\"dataframe\">\n",
       "  <thead>\n",
       "    <tr style=\"text-align: right;\">\n",
       "      <th></th>\n",
       "      <th>Data</th>\n",
       "      <th>Option1</th>\n",
       "      <th>Score1</th>\n",
       "      <th>Option2</th>\n",
       "      <th>Score2</th>\n",
       "      <th>Option3</th>\n",
       "      <th>Score3</th>\n",
       "    </tr>\n",
       "  </thead>\n",
       "  <tbody>\n",
       "    <tr>\n",
       "      <td>0</td>\n",
       "      <td>CAT</td>\n",
       "      <td>Cat</td>\n",
       "      <td>100</td>\n",
       "      <td>None</td>\n",
       "      <td>NaN</td>\n",
       "      <td>None</td>\n",
       "      <td>NaN</td>\n",
       "    </tr>\n",
       "    <tr>\n",
       "      <td>1</td>\n",
       "      <td>doggo</td>\n",
       "      <td>Dog</td>\n",
       "      <td>90</td>\n",
       "      <td>Mouse</td>\n",
       "      <td>20.0</td>\n",
       "      <td>Human</td>\n",
       "      <td>0.0</td>\n",
       "    </tr>\n",
       "    <tr>\n",
       "      <td>2</td>\n",
       "      <td>mice</td>\n",
       "      <td>Mouse</td>\n",
       "      <td>44</td>\n",
       "      <td>Cat</td>\n",
       "      <td>29.0</td>\n",
       "      <td>Human</td>\n",
       "      <td>22.0</td>\n",
       "    </tr>\n",
       "    <tr>\n",
       "      <td>3</td>\n",
       "      <td>PERSON</td>\n",
       "      <td>PERSON</td>\n",
       "      <td>0</td>\n",
       "      <td>None</td>\n",
       "      <td>NaN</td>\n",
       "      <td>None</td>\n",
       "      <td>NaN</td>\n",
       "    </tr>\n",
       "    <tr>\n",
       "      <td>4</td>\n",
       "      <td>999</td>\n",
       "      <td>999</td>\n",
       "      <td>0</td>\n",
       "      <td>None</td>\n",
       "      <td>NaN</td>\n",
       "      <td>None</td>\n",
       "      <td>NaN</td>\n",
       "    </tr>\n",
       "  </tbody>\n",
       "</table>\n",
       "</div>"
      ],
      "text/plain": [
       "     Data Option1  Score1 Option2  Score2 Option3  Score3\n",
       "0    CAT      Cat     100    None     NaN    None     NaN\n",
       "1   doggo     Dog      90   Mouse    20.0   Human     0.0\n",
       "2    mice   Mouse      44     Cat    29.0   Human    22.0\n",
       "3  PERSON  PERSON       0    None     NaN    None     NaN\n",
       "4     999     999       0    None     NaN    None     NaN"
      ]
     },
     "execution_count": 2,
     "metadata": {},
     "output_type": "execute_result"
    }
   ],
   "source": [
    "ww.map_list_to_catalog(data, catalog, thr_accept=95, thr_reject=40)"
   ]
  },
  {
   "cell_type": "markdown",
   "metadata": {},
   "source": [
    "WibblyWobbly can also return a dictionary with the best options."
   ]
  },
  {
   "cell_type": "code",
   "execution_count": 3,
   "metadata": {},
   "outputs": [
    {
     "data": {
      "text/plain": [
       "{'PERSON': 'PERSON', 999: 999, 'CAT ': 'Cat', 'doggo': 'Dog', 'mice': 'mice'}"
      ]
     },
     "execution_count": 3,
     "metadata": {},
     "output_type": "execute_result"
    }
   ],
   "source": [
    "ww.map_list_to_catalog(data, catalog, output_format=\"dictionary\")"
   ]
  },
  {
   "cell_type": "markdown",
   "metadata": {},
   "source": [
    "It is possible set a `reject_value`."
   ]
  },
  {
   "cell_type": "code",
   "execution_count": 4,
   "metadata": {},
   "outputs": [
    {
     "data": {
      "text/plain": [
       "{'PERSON': 'Other', 999: 999, 'CAT ': 'Cat', 'doggo': 'Dog', 'mice': 'Other'}"
      ]
     },
     "execution_count": 4,
     "metadata": {},
     "output_type": "execute_result"
    }
   ],
   "source": [
    "ww.map_list_to_catalog(data, catalog, output_format=\"dictionary\", reject_value='Other')"
   ]
  },
  {
   "cell_type": "markdown",
   "metadata": {},
   "source": [
    "WibblyWobbly can also raise warnings of the suspicious values to facilitate visual inspection."
   ]
  },
  {
   "cell_type": "code",
   "execution_count": 5,
   "metadata": {},
   "outputs": [
    {
     "name": "stderr",
     "output_type": "stream",
     "text": [
      "REJECT: PERSON\n",
      "\tOptions: Dog (30), Human (18), Mouse (18)\n",
      "WOBBLY: doggo\n",
      "\tOptions: Dog (90), Mouse (20), Human (0)\n",
      "WOBBLY: mice\n",
      "\tOptions: Mouse (44), Cat (29), Human (22)\n"
     ]
    },
    {
     "data": {
      "text/plain": [
       "{'PERSON': 'PERSON', 999: 999, 'CAT ': 'Cat', 'doggo': 'Dog', 'mice': 'Mouse'}"
      ]
     },
     "execution_count": 5,
     "metadata": {},
     "output_type": "execute_result"
    }
   ],
   "source": [
    "ww.map_list_to_catalog(data, catalog, output_format=\"dictionary\", \n",
    "                       thr_accept=95, thr_reject=40,  warnings=True)"
   ]
  },
  {
   "cell_type": "markdown",
   "metadata": {},
   "source": [
    "### Clean a dataframe\n",
    "\n",
    "First import pandas"
   ]
  },
  {
   "cell_type": "code",
   "execution_count": 6,
   "metadata": {},
   "outputs": [],
   "source": [
    "import pandas as pd"
   ]
  },
  {
   "cell_type": "markdown",
   "metadata": {},
   "source": [
    "Then load the catalog and the data table with _.read_csv()_ or _.read_excel()_"
   ]
  },
  {
   "cell_type": "code",
   "execution_count": 7,
   "metadata": {},
   "outputs": [
    {
     "data": {
      "text/html": [
       "<div>\n",
       "<style scoped>\n",
       "    .dataframe tbody tr th:only-of-type {\n",
       "        vertical-align: middle;\n",
       "    }\n",
       "\n",
       "    .dataframe tbody tr th {\n",
       "        vertical-align: top;\n",
       "    }\n",
       "\n",
       "    .dataframe thead th {\n",
       "        text-align: right;\n",
       "    }\n",
       "</style>\n",
       "<table border=\"1\" class=\"dataframe\">\n",
       "  <thead>\n",
       "    <tr style=\"text-align: right;\">\n",
       "      <th></th>\n",
       "      <th>Common name</th>\n",
       "      <th>Order</th>\n",
       "      <th>Family</th>\n",
       "      <th>Genus</th>\n",
       "      <th>Species</th>\n",
       "    </tr>\n",
       "  </thead>\n",
       "  <tbody>\n",
       "    <tr>\n",
       "      <td>0</td>\n",
       "      <td>Guinea pig</td>\n",
       "      <td>Rodentia</td>\n",
       "      <td>Caviidae</td>\n",
       "      <td>Cavia</td>\n",
       "      <td>porcellus</td>\n",
       "    </tr>\n",
       "    <tr>\n",
       "      <td>1</td>\n",
       "      <td>Mouse</td>\n",
       "      <td>Rodentia</td>\n",
       "      <td>Muridae</td>\n",
       "      <td>Mus</td>\n",
       "      <td>musculus</td>\n",
       "    </tr>\n",
       "    <tr>\n",
       "      <td>2</td>\n",
       "      <td>Rat</td>\n",
       "      <td>Rodentia</td>\n",
       "      <td>Muridae</td>\n",
       "      <td>Rattus</td>\n",
       "      <td>norvegicus</td>\n",
       "    </tr>\n",
       "    <tr>\n",
       "      <td>3</td>\n",
       "      <td>Cat</td>\n",
       "      <td>Carnivora</td>\n",
       "      <td>Felidae</td>\n",
       "      <td>Felis</td>\n",
       "      <td>catus</td>\n",
       "    </tr>\n",
       "    <tr>\n",
       "      <td>4</td>\n",
       "      <td>Dog</td>\n",
       "      <td>Carnivora</td>\n",
       "      <td>Canidae</td>\n",
       "      <td>Canis</td>\n",
       "      <td>lupus</td>\n",
       "    </tr>\n",
       "    <tr>\n",
       "      <td>5</td>\n",
       "      <td>Rhesus macaque</td>\n",
       "      <td>Primates</td>\n",
       "      <td>Cercopithecidae</td>\n",
       "      <td>Macaca</td>\n",
       "      <td>mulatta</td>\n",
       "    </tr>\n",
       "    <tr>\n",
       "      <td>6</td>\n",
       "      <td>Chimpanzee</td>\n",
       "      <td>Primates</td>\n",
       "      <td>Hominidae</td>\n",
       "      <td>Pan</td>\n",
       "      <td>troglodytes</td>\n",
       "    </tr>\n",
       "    <tr>\n",
       "      <td>7</td>\n",
       "      <td>Gorilla</td>\n",
       "      <td>Primates</td>\n",
       "      <td>Hominidae</td>\n",
       "      <td>Gorilla</td>\n",
       "      <td>gorilla</td>\n",
       "    </tr>\n",
       "    <tr>\n",
       "      <td>8</td>\n",
       "      <td>Orangutan</td>\n",
       "      <td>Primates</td>\n",
       "      <td>Hominidae</td>\n",
       "      <td>Pongo</td>\n",
       "      <td>pygmaeus</td>\n",
       "    </tr>\n",
       "    <tr>\n",
       "      <td>9</td>\n",
       "      <td>Human</td>\n",
       "      <td>Primates</td>\n",
       "      <td>Hominidae</td>\n",
       "      <td>Homo</td>\n",
       "      <td>sapiens</td>\n",
       "    </tr>\n",
       "  </tbody>\n",
       "</table>\n",
       "</div>"
      ],
      "text/plain": [
       "      Common name      Order           Family    Genus      Species\n",
       "0      Guinea pig   Rodentia         Caviidae    Cavia    porcellus\n",
       "1           Mouse   Rodentia          Muridae      Mus     musculus\n",
       "2             Rat   Rodentia          Muridae   Rattus   norvegicus\n",
       "3             Cat  Carnivora          Felidae    Felis        catus\n",
       "4             Dog  Carnivora          Canidae    Canis        lupus\n",
       "5  Rhesus macaque   Primates  Cercopithecidae   Macaca      mulatta\n",
       "6      Chimpanzee   Primates        Hominidae      Pan  troglodytes\n",
       "7         Gorilla   Primates        Hominidae  Gorilla      gorilla\n",
       "8       Orangutan   Primates        Hominidae    Pongo    pygmaeus \n",
       "9           Human   Primates        Hominidae     Homo      sapiens"
      ]
     },
     "execution_count": 7,
     "metadata": {},
     "output_type": "execute_result"
    }
   ],
   "source": [
    "df_catalog = pd.read_csv(\"./tests/example_taxa.csv\")\n",
    "df_catalog"
   ]
  },
  {
   "cell_type": "code",
   "execution_count": 114,
   "metadata": {},
   "outputs": [
    {
     "data": {
      "text/html": [
       "<div>\n",
       "<style scoped>\n",
       "    .dataframe tbody tr th:only-of-type {\n",
       "        vertical-align: middle;\n",
       "    }\n",
       "\n",
       "    .dataframe tbody tr th {\n",
       "        vertical-align: top;\n",
       "    }\n",
       "\n",
       "    .dataframe thead th {\n",
       "        text-align: right;\n",
       "    }\n",
       "</style>\n",
       "<table border=\"1\" class=\"dataframe\">\n",
       "  <thead>\n",
       "    <tr style=\"text-align: right;\">\n",
       "      <th></th>\n",
       "      <th>Animal</th>\n",
       "      <th>Count</th>\n",
       "    </tr>\n",
       "  </thead>\n",
       "  <tbody>\n",
       "    <tr>\n",
       "      <td>0</td>\n",
       "      <td>mice</td>\n",
       "      <td>3</td>\n",
       "    </tr>\n",
       "    <tr>\n",
       "      <td>1</td>\n",
       "      <td>CAT</td>\n",
       "      <td>1</td>\n",
       "    </tr>\n",
       "    <tr>\n",
       "      <td>2</td>\n",
       "      <td>doggo</td>\n",
       "      <td>5</td>\n",
       "    </tr>\n",
       "    <tr>\n",
       "      <td>3</td>\n",
       "      <td>PERSON</td>\n",
       "      <td>0</td>\n",
       "    </tr>\n",
       "    <tr>\n",
       "      <td>4</td>\n",
       "      <td>guinea pig</td>\n",
       "      <td>1</td>\n",
       "    </tr>\n",
       "    <tr>\n",
       "      <td>5</td>\n",
       "      <td>pig</td>\n",
       "      <td>2</td>\n",
       "    </tr>\n",
       "    <tr>\n",
       "      <td>6</td>\n",
       "      <td>Gorilla</td>\n",
       "      <td>3</td>\n",
       "    </tr>\n",
       "    <tr>\n",
       "      <td>7</td>\n",
       "      <td>Chimpanzee</td>\n",
       "      <td>0</td>\n",
       "    </tr>\n",
       "    <tr>\n",
       "      <td>8</td>\n",
       "      <td>orangután</td>\n",
       "      <td>1</td>\n",
       "    </tr>\n",
       "    <tr>\n",
       "      <td>9</td>\n",
       "      <td>chinpanze</td>\n",
       "      <td>7</td>\n",
       "    </tr>\n",
       "    <tr>\n",
       "      <td>10</td>\n",
       "      <td>gorila</td>\n",
       "      <td>3</td>\n",
       "    </tr>\n",
       "    <tr>\n",
       "      <td>11</td>\n",
       "      <td>NaN</td>\n",
       "      <td>6</td>\n",
       "    </tr>\n",
       "    <tr>\n",
       "      <td>12</td>\n",
       "      <td>dogs</td>\n",
       "      <td>2</td>\n",
       "    </tr>\n",
       "    <tr>\n",
       "      <td>13</td>\n",
       "      <td>rats</td>\n",
       "      <td>12</td>\n",
       "    </tr>\n",
       "    <tr>\n",
       "      <td>14</td>\n",
       "      <td>mouse</td>\n",
       "      <td>1</td>\n",
       "    </tr>\n",
       "    <tr>\n",
       "      <td>15</td>\n",
       "      <td>kitty</td>\n",
       "      <td>3</td>\n",
       "    </tr>\n",
       "    <tr>\n",
       "      <td>16</td>\n",
       "      <td>Cat</td>\n",
       "      <td>2</td>\n",
       "    </tr>\n",
       "    <tr>\n",
       "      <td>17</td>\n",
       "      <td>macaco</td>\n",
       "      <td>1</td>\n",
       "    </tr>\n",
       "  </tbody>\n",
       "</table>\n",
       "</div>"
      ],
      "text/plain": [
       "        Animal  Count\n",
       "0         mice      3\n",
       "1         CAT       1\n",
       "2        doggo      5\n",
       "3       PERSON      0\n",
       "4   guinea pig      1\n",
       "5          pig      2\n",
       "6      Gorilla      3\n",
       "7   Chimpanzee      0\n",
       "8    orangután      1\n",
       "9    chinpanze      7\n",
       "10      gorila      3\n",
       "11         NaN      6\n",
       "12        dogs      2\n",
       "13        rats     12\n",
       "14       mouse      1\n",
       "15       kitty      3\n",
       "16         Cat      2\n",
       "17      macaco      1"
      ]
     },
     "execution_count": 114,
     "metadata": {},
     "output_type": "execute_result"
    }
   ],
   "source": [
    "df_data = pd.read_csv(\"./tests/example_dirty_name.csv\")\n",
    "df_data"
   ]
  },
  {
   "cell_type": "markdown",
   "metadata": {},
   "source": [
    "Then create two lists with the columns you want to use as catalog and data using _.to_list()_."
   ]
  },
  {
   "cell_type": "code",
   "execution_count": 115,
   "metadata": {},
   "outputs": [
    {
     "name": "stdout",
     "output_type": "stream",
     "text": [
      "Catalog:  ['Guinea pig', 'Mouse', 'Rat', 'Cat', 'Dog', 'Rhesus macaque', 'Chimpanzee', 'Gorilla', 'Orangutan', 'Human']\n",
      "Data:  ['mice', 'CAT ', 'doggo', 'PERSON', 'guinea pig', 'pig', 'Gorilla', 'Chimpanzee', 'orangután', 'chinpanze', 'gorila', nan, 'dogs', 'rats', 'mouse', 'kitty', 'Cat', 'macaco']\n"
     ]
    }
   ],
   "source": [
    "catalog = df_catalog[\"Common name\"].to_list()\n",
    "print('Catalog: ', catalog)\n",
    "data = df_data[\"Animal\"].to_list()\n",
    "print('Data: ', data)"
   ]
  },
  {
   "cell_type": "markdown",
   "metadata": {},
   "source": [
    "Create an equivalence dictionary with _.map_list_to_catalog()_. Use `output_format=\"dictionary\"`,  to get a dictionary and `warnings=True` to check the results.\n",
    "\n",
    "It may be necessary to adjust `thr_accept` and `thr_reject` to get the best results."
   ]
  },
  {
   "cell_type": "code",
   "execution_count": 10,
   "metadata": {},
   "outputs": [
    {
     "name": "stderr",
     "output_type": "stream",
     "text": [
      "REJECT: PERSON\n",
      "\tOptions: Rhesus macaque (43), Chimpanzee (30), Dog (30)\n",
      "REJECT: kitty\n",
      "\tOptions: Cat (30), Rat (30), Chimpanzee (18)\n",
      "REJECT: mice\n",
      "\tOptions: Rhesus macaque (45), Guinea pig (45), Mouse (44)\n",
      "WOBBLY: macaco\n",
      "\tOptions: Rhesus macaque (60), Cat (60), Human (36)\n"
     ]
    },
    {
     "data": {
      "text/plain": [
       "{nan: nan,\n",
       " 'pig': 'Guinea pig',\n",
       " 'orangután': 'Orangutan',\n",
       " 'gorila': 'Gorilla',\n",
       " 'guinea pig': 'Guinea pig',\n",
       " 'PERSON': 'PERSON',\n",
       " 'dogs': 'Dog',\n",
       " 'chinpanze': 'Chimpanzee',\n",
       " 'mouse': 'Mouse',\n",
       " 'CAT ': 'Cat',\n",
       " 'kitty': 'kitty',\n",
       " 'Cat': 'Cat',\n",
       " 'doggo': 'Dog',\n",
       " 'Gorilla': 'Gorilla',\n",
       " 'mice': 'mice',\n",
       " 'macaco': 'Rhesus macaque',\n",
       " 'Chimpanzee': 'Chimpanzee',\n",
       " 'rats': 'Rat'}"
      ]
     },
     "execution_count": 10,
     "metadata": {},
     "output_type": "execute_result"
    }
   ],
   "source": [
    "equivalence = ww.map_list_to_catalog(data, catalog, output_format=\"dictionary\", \n",
    "                                     thr_accept=80, thr_reject=50,  warnings=True)\n",
    "equivalence"
   ]
  },
  {
   "cell_type": "markdown",
   "metadata": {},
   "source": [
    "Manually correct the errors by changing the dictionary"
   ]
  },
  {
   "cell_type": "code",
   "execution_count": 11,
   "metadata": {},
   "outputs": [
    {
     "data": {
      "text/plain": [
       "{nan: nan,\n",
       " 'pig': 'Guinea pig',\n",
       " 'orangután': 'Orangutan',\n",
       " 'gorila': 'Gorilla',\n",
       " 'guinea pig': 'Guinea pig',\n",
       " 'PERSON': 'Human',\n",
       " 'dogs': 'Dog',\n",
       " 'chinpanze': 'Chimpanzee',\n",
       " 'mouse': 'Mouse',\n",
       " 'CAT ': 'Cat',\n",
       " 'kitty': 'Cat',\n",
       " 'Cat': 'Cat',\n",
       " 'doggo': 'Dog',\n",
       " 'Gorilla': 'Gorilla',\n",
       " 'mice': 'Mouse',\n",
       " 'macaco': 'Rhesus macaque',\n",
       " 'Chimpanzee': 'Chimpanzee',\n",
       " 'rats': 'Rat'}"
      ]
     },
     "execution_count": 11,
     "metadata": {},
     "output_type": "execute_result"
    }
   ],
   "source": [
    "equivalence['macaco'] = 'Rhesus macaque'\n",
    "equivalence['kitty']  = 'Cat'\n",
    "equivalence['PERSON'] = 'Human'\n",
    "equivalence['mice']   = 'Mouse'\n",
    "equivalence"
   ]
  },
  {
   "cell_type": "markdown",
   "metadata": {},
   "source": [
    "Clean de dirty data using the equivalence dictionary and the function _.map()_. Don't forget to save the new values."
   ]
  },
  {
   "cell_type": "code",
   "execution_count": 12,
   "metadata": {},
   "outputs": [
    {
     "data": {
      "text/html": [
       "<div>\n",
       "<style scoped>\n",
       "    .dataframe tbody tr th:only-of-type {\n",
       "        vertical-align: middle;\n",
       "    }\n",
       "\n",
       "    .dataframe tbody tr th {\n",
       "        vertical-align: top;\n",
       "    }\n",
       "\n",
       "    .dataframe thead th {\n",
       "        text-align: right;\n",
       "    }\n",
       "</style>\n",
       "<table border=\"1\" class=\"dataframe\">\n",
       "  <thead>\n",
       "    <tr style=\"text-align: right;\">\n",
       "      <th></th>\n",
       "      <th>Animal</th>\n",
       "      <th>Count</th>\n",
       "    </tr>\n",
       "  </thead>\n",
       "  <tbody>\n",
       "    <tr>\n",
       "      <td>0</td>\n",
       "      <td>Mouse</td>\n",
       "      <td>3</td>\n",
       "    </tr>\n",
       "    <tr>\n",
       "      <td>1</td>\n",
       "      <td>Cat</td>\n",
       "      <td>1</td>\n",
       "    </tr>\n",
       "    <tr>\n",
       "      <td>2</td>\n",
       "      <td>Dog</td>\n",
       "      <td>5</td>\n",
       "    </tr>\n",
       "    <tr>\n",
       "      <td>3</td>\n",
       "      <td>Human</td>\n",
       "      <td>0</td>\n",
       "    </tr>\n",
       "    <tr>\n",
       "      <td>4</td>\n",
       "      <td>Guinea pig</td>\n",
       "      <td>1</td>\n",
       "    </tr>\n",
       "    <tr>\n",
       "      <td>5</td>\n",
       "      <td>Guinea pig</td>\n",
       "      <td>2</td>\n",
       "    </tr>\n",
       "    <tr>\n",
       "      <td>6</td>\n",
       "      <td>Gorilla</td>\n",
       "      <td>3</td>\n",
       "    </tr>\n",
       "    <tr>\n",
       "      <td>7</td>\n",
       "      <td>Chimpanzee</td>\n",
       "      <td>0</td>\n",
       "    </tr>\n",
       "    <tr>\n",
       "      <td>8</td>\n",
       "      <td>Orangutan</td>\n",
       "      <td>1</td>\n",
       "    </tr>\n",
       "    <tr>\n",
       "      <td>9</td>\n",
       "      <td>Chimpanzee</td>\n",
       "      <td>7</td>\n",
       "    </tr>\n",
       "    <tr>\n",
       "      <td>10</td>\n",
       "      <td>Gorilla</td>\n",
       "      <td>3</td>\n",
       "    </tr>\n",
       "    <tr>\n",
       "      <td>11</td>\n",
       "      <td>NaN</td>\n",
       "      <td>6</td>\n",
       "    </tr>\n",
       "    <tr>\n",
       "      <td>12</td>\n",
       "      <td>Dog</td>\n",
       "      <td>2</td>\n",
       "    </tr>\n",
       "    <tr>\n",
       "      <td>13</td>\n",
       "      <td>Rat</td>\n",
       "      <td>12</td>\n",
       "    </tr>\n",
       "    <tr>\n",
       "      <td>14</td>\n",
       "      <td>Mouse</td>\n",
       "      <td>1</td>\n",
       "    </tr>\n",
       "    <tr>\n",
       "      <td>15</td>\n",
       "      <td>Cat</td>\n",
       "      <td>3</td>\n",
       "    </tr>\n",
       "    <tr>\n",
       "      <td>16</td>\n",
       "      <td>Cat</td>\n",
       "      <td>2</td>\n",
       "    </tr>\n",
       "    <tr>\n",
       "      <td>17</td>\n",
       "      <td>Rhesus macaque</td>\n",
       "      <td>1</td>\n",
       "    </tr>\n",
       "  </tbody>\n",
       "</table>\n",
       "</div>"
      ],
      "text/plain": [
       "            Animal  Count\n",
       "0            Mouse      3\n",
       "1              Cat      1\n",
       "2              Dog      5\n",
       "3            Human      0\n",
       "4       Guinea pig      1\n",
       "5       Guinea pig      2\n",
       "6          Gorilla      3\n",
       "7       Chimpanzee      0\n",
       "8        Orangutan      1\n",
       "9       Chimpanzee      7\n",
       "10         Gorilla      3\n",
       "11             NaN      6\n",
       "12             Dog      2\n",
       "13             Rat     12\n",
       "14           Mouse      1\n",
       "15             Cat      3\n",
       "16             Cat      2\n",
       "17  Rhesus macaque      1"
      ]
     },
     "execution_count": 12,
     "metadata": {},
     "output_type": "execute_result"
    }
   ],
   "source": [
    "df_data['Animal'] = df_data['Animal'].map(equivalence)\n",
    "df_data"
   ]
  },
  {
   "cell_type": "markdown",
   "metadata": {},
   "source": [
    "Save the clean table as a file with _.to_csv()_ or _.to_excel()_.\n",
    "\n",
    "```python\n",
    "df_data.to_csv(\"./tests/example_clean_name.csv\")\n",
    "```"
   ]
  }
 ],
 "metadata": {
  "kernelspec": {
   "display_name": "Python 3",
   "language": "python",
   "name": "python3"
  },
  "language_info": {
   "codemirror_mode": {
    "name": "ipython",
    "version": 3
   },
   "file_extension": ".py",
   "mimetype": "text/x-python",
   "name": "python",
   "nbconvert_exporter": "python",
   "pygments_lexer": "ipython3",
   "version": "3.7.4"
  }
 },
 "nbformat": 4,
 "nbformat_minor": 4
}
